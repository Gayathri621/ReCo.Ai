{
  "nbformat": 4,
  "nbformat_minor": 0,
  "metadata": {
    "colab": {
      "name": "Untitled29.ipynb",
      "provenance": []
    },
    "kernelspec": {
      "name": "python3",
      "display_name": "Python 3"
    }
  },
  "cells": [
    {
      "cell_type": "code",
      "metadata": {
        "id": "fMPZ8kmhyl5g",
        "colab_type": "code",
        "colab": {
          "base_uri": "https://localhost:8080/",
          "height": 33
        },
        "outputId": "c0c63f26-2044-4ce7-e847-19318c33bd88"
      },
      "source": [
        "!git clone https://github.com/servomac/Human-Activity-Recognition.git"
      ],
      "execution_count": null,
      "outputs": [
        {
          "output_type": "stream",
          "text": [
            "fatal: destination path 'Human-Activity-Recognition' already exists and is not an empty directory.\n"
          ],
          "name": "stdout"
        }
      ]
    },
    {
      "cell_type": "code",
      "metadata": {
        "id": "6jD1z1zKy5wY",
        "colab_type": "code",
        "colab": {}
      },
      "source": [
        "import pandas as pd\n",
        "import numpy as np\n",
        "\n",
        "DATADIR = '/content/drive/My Drive/UCI HAR Dataset'\n",
        "\n",
        "SIGNALS = [\n",
        "    \"body_acc_x\",\n",
        "    \"body_acc_y\",\n",
        "    \"body_acc_z\",\n",
        "    \"body_gyro_x\",\n",
        "    \"body_gyro_y\",\n",
        "    \"body_gyro_z\",\n",
        "    \"total_acc_x\",\n",
        "    \"total_acc_y\",\n",
        "    \"total_acc_z\"\n",
        "]\n",
        "\n",
        "def _read_csv(filename):\n",
        "    return pd.read_csv(filename, delim_whitespace=True, header=None)\n",
        "\n",
        "def load_signals(subset):\n",
        "    signals_data = []\n",
        "\n",
        "    for signal in SIGNALS:\n",
        "        filename = f'{DATADIR}/{subset}/Inertial Signals/{signal}_{subset}.txt'\n",
        "        signals_data.append(\n",
        "            _read_csv(filename).values\n",
        "        ) \n",
        "\n",
        "    # Transpose is used to change the dimensionality of the output,\n",
        "    # aggregating the signals by combination of sample/timestep.\n",
        "    # Resultant shape is (7352 train/2947 test samples, 128 timesteps, 9 signals)\n",
        "    return np.transpose(signals_data, (1, 2, 0))\n",
        "\n",
        "def load_y(subset):\n",
        "    \"\"\"\n",
        "    The objective that we are trying to predict is a integer, from 1 to 6,\n",
        "    that represents a human activity. We return a binary representation of \n",
        "    every sample objective as a 6 bits vector using One Hot Encoding\n",
        "    (https://pandas.pydata.org/pandas-docs/stable/generated/pandas.get_dummies.html)\n",
        "    \"\"\"\n",
        "    filename = f'{DATADIR}/{subset}/y_{subset}.txt'\n",
        "    y = _read_csv(filename)[0]\n",
        "\n",
        "    return pd.get_dummies(y).values\n",
        "\n",
        "def load_data():\n",
        "    \"\"\"\n",
        "    Obtain the dataset from multiple files.\n",
        "    Returns: X_train, X_test, y_train, y_test\n",
        "    \"\"\"\n",
        "    X_train, X_test = load_signals('train'), load_signals('test')\n",
        "    y_train, y_test = load_y('train'), load_y('test')\n",
        "\n",
        "    return X_train, X_test, y_train, y_test\n"
      ],
      "execution_count": 14,
      "outputs": []
    },
    {
      "cell_type": "code",
      "metadata": {
        "id": "9yXrnGp58YpJ",
        "colab_type": "code",
        "colab": {}
      },
      "source": [
        "load_data()"
      ],
      "execution_count": null,
      "outputs": []
    },
    {
      "cell_type": "code",
      "metadata": {
        "id": "56yZawEs2R5i",
        "colab_type": "code",
        "colab": {}
      },
      "source": [
        "import pandas as pd\n",
        "import numpy as np\n",
        "\n",
        "ACTIVITIES = {\n",
        "    0: 'WALKING',\n",
        "    1: 'WALKING_UPSTAIRS',\n",
        "    2: 'WALKING_DOWNSTAIRS',\n",
        "    3: 'SITTING',\n",
        "    4: 'STANDING',\n",
        "    5: 'LAYING',\n",
        "}\n",
        "\n",
        "def confusion_matrix(Y_true, Y_pred):\n",
        "    Y_true = pd.Series([ACTIVITIES[y] for y in np.argmax(Y_true, axis=1)])\n",
        "    Y_pred = pd.Series([ACTIVITIES[y] for y in np.argmax(Y_pred, axis=1)])\n",
        "\n",
        "    return pd.crosstab(Y_true, Y_pred, rownames=['True'], colnames=['Pred'])\n"
      ],
      "execution_count": 19,
      "outputs": []
    },
    {
      "cell_type": "code",
      "metadata": {
        "id": "G8XKn5jOzK9H",
        "colab_type": "code",
        "colab": {
          "base_uri": "https://localhost:8080/",
          "height": 1000
        },
        "outputId": "7057bf48-5ce2-4573-8217-4bedab585e7f"
      },
      "source": [
        "import numpy as np\n",
        "np.random.seed(42)\n",
        "import tensorflow as tf\n",
        "tf.random.set_seed(42)\n",
        "\n",
        "# for reproducibility\n",
        "# https://github.com/fchollet/keras/issues/2280\n",
        "#session_conf = tf.compat.v1.ConfigProto(\n",
        "#    intra_op_parallelism_threads=1,\n",
        "#    inter_op_parallelism_threads=1\n",
        "#)\n",
        "\n",
        "from keras import backend as K\n",
        "\n",
        "from keras.models import Sequential\n",
        "from keras.layers import LSTM\n",
        "from keras.layers.core import Dense, Dropout\n",
        "\n",
        "\n",
        "epochs = 30\n",
        "batch_size = 16\n",
        "n_hidden = 32\n",
        "\n",
        "def _count_classes(y):\n",
        "    return len(set([tuple(category) for category in y]))\n",
        "\n",
        "X_train, X_test, Y_train, Y_test = load_data()\n",
        "\n",
        "timesteps = len(X_train[0])\n",
        "input_dim = len(X_train[0][0])\n",
        "n_classes = _count_classes(Y_train)\n",
        "\n",
        "model = Sequential()\n",
        "model.add(LSTM(n_hidden, input_shape=(timesteps, input_dim)))\n",
        "model.add(Dropout(0.5))\n",
        "model.add(Dense(n_classes, activation='sigmoid'))\n",
        "\n",
        "model.compile(loss='categorical_crossentropy',\n",
        "              optimizer='rmsprop',\n",
        "              metrics=['accuracy'])\n",
        "\n",
        "model.fit(X_train,\n",
        "          Y_train,\n",
        "          batch_size=batch_size,\n",
        "          validation_data=(X_test, Y_test),\n",
        "          epochs=epochs)\n",
        "\n",
        "# Evaluate\n"
      ],
      "execution_count": 18,
      "outputs": [
        {
          "output_type": "stream",
          "text": [
            "Epoch 1/30\n",
            "460/460 [==============================] - 17s 37ms/step - loss: 1.4152 - accuracy: 0.3490 - val_loss: 1.3627 - val_accuracy: 0.3984\n",
            "Epoch 2/30\n",
            "460/460 [==============================] - 17s 36ms/step - loss: 1.0927 - accuracy: 0.5469 - val_loss: 0.9226 - val_accuracy: 0.6227\n",
            "Epoch 3/30\n",
            "460/460 [==============================] - 17s 36ms/step - loss: 0.8244 - accuracy: 0.6496 - val_loss: 0.7819 - val_accuracy: 0.6352\n",
            "Epoch 4/30\n",
            "460/460 [==============================] - 17s 36ms/step - loss: 0.7127 - accuracy: 0.6742 - val_loss: 0.7771 - val_accuracy: 0.6535\n",
            "Epoch 5/30\n",
            "460/460 [==============================] - 17s 37ms/step - loss: 0.6585 - accuracy: 0.6950 - val_loss: 0.7408 - val_accuracy: 0.6851\n",
            "Epoch 6/30\n",
            "460/460 [==============================] - 17s 37ms/step - loss: 0.5801 - accuracy: 0.7552 - val_loss: 0.6393 - val_accuracy: 0.7448\n",
            "Epoch 7/30\n",
            "460/460 [==============================] - 17s 37ms/step - loss: 0.4957 - accuracy: 0.8108 - val_loss: 0.4658 - val_accuracy: 0.8045\n",
            "Epoch 8/30\n",
            "460/460 [==============================] - 17s 37ms/step - loss: 0.4352 - accuracy: 0.8376 - val_loss: 0.5603 - val_accuracy: 0.8096\n",
            "Epoch 9/30\n",
            "460/460 [==============================] - 17s 37ms/step - loss: 0.3760 - accuracy: 0.8810 - val_loss: 0.4653 - val_accuracy: 0.8456\n",
            "Epoch 10/30\n",
            "460/460 [==============================] - 17s 36ms/step - loss: 0.3260 - accuracy: 0.8993 - val_loss: 0.5442 - val_accuracy: 0.8378\n",
            "Epoch 11/30\n",
            "460/460 [==============================] - 17s 36ms/step - loss: 0.3032 - accuracy: 0.9086 - val_loss: 0.5032 - val_accuracy: 0.8558\n",
            "Epoch 12/30\n",
            "460/460 [==============================] - 17s 37ms/step - loss: 0.2570 - accuracy: 0.9256 - val_loss: 0.5099 - val_accuracy: 0.8728\n",
            "Epoch 13/30\n",
            "460/460 [==============================] - 17s 37ms/step - loss: 0.2427 - accuracy: 0.9276 - val_loss: 0.5741 - val_accuracy: 0.8816\n",
            "Epoch 14/30\n",
            "460/460 [==============================] - 18s 39ms/step - loss: 0.2293 - accuracy: 0.9298 - val_loss: 0.6177 - val_accuracy: 0.8599\n",
            "Epoch 15/30\n",
            "460/460 [==============================] - 17s 37ms/step - loss: 0.2055 - accuracy: 0.9344 - val_loss: 0.6082 - val_accuracy: 0.8544\n",
            "Epoch 16/30\n",
            "460/460 [==============================] - 17s 36ms/step - loss: 0.2006 - accuracy: 0.9385 - val_loss: 0.4274 - val_accuracy: 0.8975\n",
            "Epoch 17/30\n",
            "460/460 [==============================] - 17s 37ms/step - loss: 0.1920 - accuracy: 0.9407 - val_loss: 0.5437 - val_accuracy: 0.8789\n",
            "Epoch 18/30\n",
            "460/460 [==============================] - 17s 37ms/step - loss: 0.1825 - accuracy: 0.9385 - val_loss: 0.6089 - val_accuracy: 0.8789\n",
            "Epoch 19/30\n",
            "460/460 [==============================] - 17s 36ms/step - loss: 0.1861 - accuracy: 0.9388 - val_loss: 0.4762 - val_accuracy: 0.8884\n",
            "Epoch 20/30\n",
            "460/460 [==============================] - 17s 36ms/step - loss: 0.2527 - accuracy: 0.9274 - val_loss: 0.4974 - val_accuracy: 0.8887\n",
            "Epoch 21/30\n",
            "460/460 [==============================] - 17s 37ms/step - loss: 0.1961 - accuracy: 0.9422 - val_loss: 0.6418 - val_accuracy: 0.8775\n",
            "Epoch 22/30\n",
            "460/460 [==============================] - 17s 36ms/step - loss: 0.2020 - accuracy: 0.9385 - val_loss: 0.4378 - val_accuracy: 0.8999\n",
            "Epoch 23/30\n",
            "460/460 [==============================] - 17s 37ms/step - loss: 0.1858 - accuracy: 0.9422 - val_loss: 0.4837 - val_accuracy: 0.9050\n",
            "Epoch 24/30\n",
            "460/460 [==============================] - 17s 36ms/step - loss: 0.1787 - accuracy: 0.9421 - val_loss: 0.5411 - val_accuracy: 0.9013\n",
            "Epoch 25/30\n",
            "460/460 [==============================] - 17s 37ms/step - loss: 0.1833 - accuracy: 0.9444 - val_loss: 0.6776 - val_accuracy: 0.8802\n",
            "Epoch 26/30\n",
            "460/460 [==============================] - 17s 36ms/step - loss: 0.1852 - accuracy: 0.9422 - val_loss: 0.6711 - val_accuracy: 0.8846\n",
            "Epoch 27/30\n",
            "460/460 [==============================] - 17s 37ms/step - loss: 0.1925 - accuracy: 0.9423 - val_loss: 0.5872 - val_accuracy: 0.9009\n",
            "Epoch 28/30\n",
            "460/460 [==============================] - 17s 36ms/step - loss: 0.1634 - accuracy: 0.9433 - val_loss: 0.6557 - val_accuracy: 0.8846\n",
            "Epoch 29/30\n",
            "460/460 [==============================] - 17s 37ms/step - loss: 0.1782 - accuracy: 0.9433 - val_loss: 0.5980 - val_accuracy: 0.8996\n",
            "Epoch 30/30\n",
            "460/460 [==============================] - 17s 36ms/step - loss: 0.1554 - accuracy: 0.9495 - val_loss: 0.7308 - val_accuracy: 0.8819\n"
          ],
          "name": "stdout"
        },
        {
          "output_type": "error",
          "ename": "NameError",
          "evalue": "ignored",
          "traceback": [
            "\u001b[0;31m---------------------------------------------------------------------------\u001b[0m",
            "\u001b[0;31mNameError\u001b[0m                                 Traceback (most recent call last)",
            "\u001b[0;32m<ipython-input-18-52db9017b7b0>\u001b[0m in \u001b[0;36m<module>\u001b[0;34m()\u001b[0m\n\u001b[1;32m     47\u001b[0m \u001b[0;34m\u001b[0m\u001b[0m\n\u001b[1;32m     48\u001b[0m \u001b[0;31m# Evaluate\u001b[0m\u001b[0;34m\u001b[0m\u001b[0;34m\u001b[0m\u001b[0;34m\u001b[0m\u001b[0m\n\u001b[0;32m---> 49\u001b[0;31m \u001b[0mprint\u001b[0m\u001b[0;34m(\u001b[0m\u001b[0mconfusion_matrix\u001b[0m\u001b[0;34m(\u001b[0m\u001b[0mY_test\u001b[0m\u001b[0;34m,\u001b[0m \u001b[0mmodel\u001b[0m\u001b[0;34m.\u001b[0m\u001b[0mpredict\u001b[0m\u001b[0;34m(\u001b[0m\u001b[0mX_test\u001b[0m\u001b[0;34m)\u001b[0m\u001b[0;34m)\u001b[0m\u001b[0;34m)\u001b[0m\u001b[0;34m\u001b[0m\u001b[0;34m\u001b[0m\u001b[0m\n\u001b[0m",
            "\u001b[0;31mNameError\u001b[0m: name 'confusion_matrix' is not defined"
          ]
        }
      ]
    },
    {
      "cell_type": "code",
      "metadata": {
        "id": "If07kJSc_GJV",
        "colab_type": "code",
        "colab": {
          "base_uri": "https://localhost:8080/",
          "height": 184
        },
        "outputId": "5e7675fc-0699-4f0d-ed21-9f9d5ca7cae4"
      },
      "source": [
        "print(confusion_matrix(Y_test, model.predict(X_test)))\n"
      ],
      "execution_count": 20,
      "outputs": [
        {
          "output_type": "stream",
          "text": [
            "Pred                LAYING  SITTING  ...  WALKING_DOWNSTAIRS  WALKING_UPSTAIRS\n",
            "True                                 ...                                      \n",
            "LAYING                 510        0  ...                   0                27\n",
            "SITTING                  0      413  ...                   0                27\n",
            "STANDING                 0      101  ...                   0                71\n",
            "WALKING                  0        0  ...                  26                 3\n",
            "WALKING_DOWNSTAIRS       0        0  ...                 401                16\n",
            "WALKING_UPSTAIRS         0        5  ...                   1               452\n",
            "\n",
            "[6 rows x 6 columns]\n"
          ],
          "name": "stdout"
        }
      ]
    }
  ]
}